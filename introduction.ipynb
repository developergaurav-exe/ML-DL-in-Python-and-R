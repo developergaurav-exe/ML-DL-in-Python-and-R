{
 "cells": [
  {
   "cell_type": "markdown",
   "metadata": {},
   "source": [
    "#### Jupyter Notebook shortcuts\n",
    "##### Esc: To come out from editing cell\n",
    "##### y: to convert selected cell to python\n",
    "##### m: to make a Markdown cell \n",
    "##### a: to add cells above\n",
    "##### b: to add cells below\n",
    "##### d-d: to delete cells"
   ]
  },
  {
   "cell_type": "markdown",
   "metadata": {},
   "source": [
    "Numpy built on C and Fortran that's why faster than Python"
   ]
  },
  {
   "cell_type": "code",
   "execution_count": 1,
   "metadata": {},
   "outputs": [
    {
     "name": "stdout",
     "output_type": "stream",
     "text": [
      "Help on function displot in module seaborn.distributions:\n",
      "\n",
      "displot(data=None, *, x=None, y=None, hue=None, row=None, col=None, weights=None, kind='hist', rug=False, rug_kws=None, log_scale=None, legend=True, palette=None, hue_order=None, hue_norm=None, color=None, col_wrap=None, row_order=None, col_order=None, height=5, aspect=1, facet_kws=None, **kwargs)\n",
      "    Figure-level interface for drawing distribution plots onto a FacetGrid.\n",
      "    \n",
      "    This function provides access to several approaches for visualizing the\n",
      "    univariate or bivariate distribution of data, including subsets of data\n",
      "    defined by semantic mapping and faceting across multiple subplots. The\n",
      "    ``kind`` parameter selects the approach to use:\n",
      "    \n",
      "    - :func:`histplot` (with ``kind=\"hist\"``; the default)\n",
      "    - :func:`kdeplot` (with ``kind=\"kde\"``)\n",
      "    - :func:`ecdfplot` (with ``kind=\"ecdf\"``; univariate-only)\n",
      "    \n",
      "    Additionally, a :func:`rugplot` can be added to any kind of plot to show\n",
      "    individual observations.\n",
      "    \n",
      "    Extra keyword arguments are passed to the underlying function, so you should\n",
      "    refer to the documentation for each to understand the complete set of options\n",
      "    for making plots with this interface.\n",
      "    \n",
      "    See the :doc:`distribution plots tutorial <../tutorial/distributions>` for a more\n",
      "    in-depth discussion of the relative strengths and weaknesses of each approach.\n",
      "    The distinction between figure-level and axes-level functions is explained\n",
      "    further in the :doc:`user guide <../tutorial/function_overview>`.\n",
      "    \n",
      "    Parameters\n",
      "    ----------\n",
      "    data : :class:`pandas.DataFrame`, :class:`numpy.ndarray`, mapping, or sequence\n",
      "        Input data structure. Either a long-form collection of vectors that can be\n",
      "        assigned to named variables or a wide-form dataset that will be internally\n",
      "        reshaped.\n",
      "    x, y : vectors or keys in ``data``\n",
      "        Variables that specify positions on the x and y axes.\n",
      "    hue : vector or key in ``data``\n",
      "        Semantic variable that is mapped to determine the color of plot elements.\n",
      "    row, col : vectors or keys in ``data``\n",
      "        Variables that define subsets to plot on different facets.    \n",
      "    kind : {\"hist\", \"kde\", \"ecdf\"}\n",
      "        Approach for visualizing the data. Selects the underlying plotting function\n",
      "        and determines the additional set of valid parameters.\n",
      "    rug : bool\n",
      "        If True, show each observation with marginal ticks (as in :func:`rugplot`).\n",
      "    rug_kws : dict\n",
      "        Parameters to control the appearance of the rug plot.\n",
      "    log_scale : bool or number, or pair of bools or numbers\n",
      "        Set axis scale(s) to log. A single value sets the data axis for univariate\n",
      "        distributions and both axes for bivariate distributions. A pair of values\n",
      "        sets each axis independently. Numeric values are interpreted as the desired\n",
      "        base (default 10). If `False`, defer to the existing Axes scale.\n",
      "    legend : bool\n",
      "        If False, suppress the legend for semantic variables.\n",
      "    palette : string, list, dict, or :class:`matplotlib.colors.Colormap`\n",
      "        Method for choosing the colors to use when mapping the ``hue`` semantic.\n",
      "        String values are passed to :func:`color_palette`. List or dict values\n",
      "        imply categorical mapping, while a colormap object implies numeric mapping.\n",
      "    hue_order : vector of strings\n",
      "        Specify the order of processing and plotting for categorical levels of the\n",
      "        ``hue`` semantic.\n",
      "    hue_norm : tuple or :class:`matplotlib.colors.Normalize`\n",
      "        Either a pair of values that set the normalization range in data units\n",
      "        or an object that will map from data units into a [0, 1] interval. Usage\n",
      "        implies numeric mapping.\n",
      "    color : :mod:`matplotlib color <matplotlib.colors>`\n",
      "        Single color specification for when hue mapping is not used. Otherwise, the\n",
      "        plot will try to hook into the matplotlib property cycle.\n",
      "    col_wrap : int\n",
      "        \"Wrap\" the column variable at this width, so that the column facets\n",
      "        span multiple rows. Incompatible with a ``row`` facet.    \n",
      "    {row,col}_order : vector of strings\n",
      "        Specify the order in which levels of the ``row`` and/or ``col`` variables\n",
      "        appear in the grid of subplots.    \n",
      "    height : scalar\n",
      "        Height (in inches) of each facet. See also: ``aspect``.    \n",
      "    aspect : scalar\n",
      "        Aspect ratio of each facet, so that ``aspect * height`` gives the width\n",
      "        of each facet in inches.    \n",
      "    facet_kws : dict\n",
      "        Additional parameters passed to :class:`FacetGrid`.\n",
      "    \n",
      "    kwargs\n",
      "        Other keyword arguments are documented with the relevant axes-level function:\n",
      "    \n",
      "        - :func:`histplot` (with ``kind=\"hist\"``)\n",
      "        - :func:`kdeplot` (with ``kind=\"kde\"``)\n",
      "        - :func:`ecdfplot` (with ``kind=\"ecdf\"``)\n",
      "    \n",
      "    Returns\n",
      "    -------\n",
      "    :class:`FacetGrid`\n",
      "        An object managing one or more subplots that correspond to conditional data\n",
      "        subsets with convenient methods for batch-setting of axes attributes.\n",
      "    \n",
      "    See Also\n",
      "    --------\n",
      "    histplot : Plot a histogram of binned counts with optional normalization or smoothing.\n",
      "    kdeplot : Plot univariate or bivariate distributions using kernel density estimation.\n",
      "    rugplot : Plot a tick at each observation value along the x and/or y axes.\n",
      "    ecdfplot : Plot empirical cumulative distribution functions.\n",
      "    jointplot : Draw a bivariate plot with univariate marginal distributions.\n",
      "    \n",
      "    Examples\n",
      "    --------\n",
      "    \n",
      "    See the API documentation for the axes-level functions for more details\n",
      "    about the breadth of options available for each plot kind.\n",
      "    \n",
      "    .. include:: ../docstrings/displot.rst\n",
      "\n"
     ]
    }
   ],
   "source": [
    "import seaborn as sns # Seaborn used more in the field of AI for data visualization\n",
    "help(sns.displot) # call help function on any method"
   ]
  },
  {
   "cell_type": "markdown",
   "metadata": {},
   "source": [
    "### .describe() to get all stats of the int columns"
   ]
  }
 ],
 "metadata": {
  "kernelspec": {
   "display_name": "Python 3.10.5 64-bit",
   "language": "python",
   "name": "python3"
  },
  "language_info": {
   "codemirror_mode": {
    "name": "ipython",
    "version": 3
   },
   "file_extension": ".py",
   "mimetype": "text/x-python",
   "name": "python",
   "nbconvert_exporter": "python",
   "pygments_lexer": "ipython3",
   "version": "3.10.5"
  },
  "orig_nbformat": 4,
  "vscode": {
   "interpreter": {
    "hash": "e8899eb02dfbc033aab5733bdae1bd213fa031d40331094008e8673d99ebab63"
   }
  }
 },
 "nbformat": 4,
 "nbformat_minor": 2
}
